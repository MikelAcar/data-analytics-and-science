{
 "cells": [
  {
   "cell_type": "code",
   "execution_count": 1,
   "metadata": {},
   "outputs": [],
   "source": [
    "import pandas as pd\n",
    "\n",
    "import io\n",
    "import zipfile\n",
    "import requests\n",
    "\n",
    "from shapely.geometry import Point\n",
    "\n",
    "\n",
    "%matplotlib inline\n",
    "\n"
   ]
  },
  {
   "cell_type": "code",
   "execution_count": 2,
   "metadata": {},
   "outputs": [],
   "source": [
    "zf = zipfile.ZipFile(file=\"NaPTANcsv.zip\")"
   ]
  },
  {
   "cell_type": "code",
   "execution_count": 3,
   "metadata": {},
   "outputs": [
    {
     "name": "stderr",
     "output_type": "stream",
     "text": [
      "C:\\Users\\mikel\\Anaconda3\\lib\\site-packages\\IPython\\core\\interactiveshell.py:2785: DtypeWarning: Columns (1,2,5,6,7,9,11,12,13,15,20,21,22,23,24,35,36) have mixed types. Specify dtype option on import or set low_memory=False.\n",
      "  interactivity=interactivity, compiler=compiler, result=result)\n"
     ]
    }
   ],
   "source": [
    "df = pd.read_csv(zf.open('Stops.csv'), encoding='windows-1252')"
   ]
  },
  {
   "cell_type": "code",
   "execution_count": 4,
   "metadata": {},
   "outputs": [
    {
     "data": {
      "text/html": [
       "<div>\n",
       "<style scoped>\n",
       "    .dataframe tbody tr th:only-of-type {\n",
       "        vertical-align: middle;\n",
       "    }\n",
       "\n",
       "    .dataframe tbody tr th {\n",
       "        vertical-align: top;\n",
       "    }\n",
       "\n",
       "    .dataframe thead th {\n",
       "        text-align: right;\n",
       "    }\n",
       "</style>\n",
       "<table border=\"1\" class=\"dataframe\">\n",
       "  <thead>\n",
       "    <tr style=\"text-align: right;\">\n",
       "      <th></th>\n",
       "      <th>ATCOCode</th>\n",
       "      <th>NaptanCode</th>\n",
       "      <th>PlateCode</th>\n",
       "      <th>CleardownCode</th>\n",
       "      <th>CommonName</th>\n",
       "      <th>CommonNameLang</th>\n",
       "      <th>ShortCommonName</th>\n",
       "      <th>ShortCommonNameLang</th>\n",
       "      <th>Landmark</th>\n",
       "      <th>LandmarkLang</th>\n",
       "      <th>...</th>\n",
       "      <th>TimingStatus</th>\n",
       "      <th>DefaultWaitTime</th>\n",
       "      <th>Notes</th>\n",
       "      <th>NotesLang</th>\n",
       "      <th>AdministrativeAreaCode</th>\n",
       "      <th>CreationDateTime</th>\n",
       "      <th>ModificationDateTime</th>\n",
       "      <th>RevisionNumber</th>\n",
       "      <th>Modification</th>\n",
       "      <th>Status</th>\n",
       "    </tr>\n",
       "  </thead>\n",
       "  <tbody>\n",
       "    <tr>\n",
       "      <th>0</th>\n",
       "      <td>0100053316</td>\n",
       "      <td>bstjpdm</td>\n",
       "      <td>NaN</td>\n",
       "      <td>NaN</td>\n",
       "      <td>Broad Walk Shops</td>\n",
       "      <td>en</td>\n",
       "      <td>NaN</td>\n",
       "      <td>NaN</td>\n",
       "      <td>NaN</td>\n",
       "      <td>NaN</td>\n",
       "      <td>...</td>\n",
       "      <td>OTH</td>\n",
       "      <td>NaN</td>\n",
       "      <td>NaN</td>\n",
       "      <td>NaN</td>\n",
       "      <td>9</td>\n",
       "      <td>2017-07-25T15:33:15</td>\n",
       "      <td>2017-07-17T14:41:57</td>\n",
       "      <td>24</td>\n",
       "      <td>del</td>\n",
       "      <td>del</td>\n",
       "    </tr>\n",
       "    <tr>\n",
       "      <th>1</th>\n",
       "      <td>0100053264</td>\n",
       "      <td>bstmjdp</td>\n",
       "      <td>NaN</td>\n",
       "      <td>NaN</td>\n",
       "      <td>Alberton Road</td>\n",
       "      <td>en</td>\n",
       "      <td>NaN</td>\n",
       "      <td>NaN</td>\n",
       "      <td>NaN</td>\n",
       "      <td>NaN</td>\n",
       "      <td>...</td>\n",
       "      <td>OTH</td>\n",
       "      <td>NaN</td>\n",
       "      <td>NaN</td>\n",
       "      <td>NaN</td>\n",
       "      <td>9</td>\n",
       "      <td>2017-07-25T15:33:15</td>\n",
       "      <td>2017-07-17T14:26:49</td>\n",
       "      <td>9</td>\n",
       "      <td>del</td>\n",
       "      <td>del</td>\n",
       "    </tr>\n",
       "    <tr>\n",
       "      <th>2</th>\n",
       "      <td>0100053308</td>\n",
       "      <td>bstgtgj</td>\n",
       "      <td>NaN</td>\n",
       "      <td>NaN</td>\n",
       "      <td>Counterslip</td>\n",
       "      <td>en</td>\n",
       "      <td>NaN</td>\n",
       "      <td>NaN</td>\n",
       "      <td>NaN</td>\n",
       "      <td>NaN</td>\n",
       "      <td>...</td>\n",
       "      <td>OTH</td>\n",
       "      <td>NaN</td>\n",
       "      <td>NaN</td>\n",
       "      <td>NaN</td>\n",
       "      <td>9</td>\n",
       "      <td>2017-07-25T15:33:15</td>\n",
       "      <td>2017-07-17T14:46:28</td>\n",
       "      <td>12</td>\n",
       "      <td>del</td>\n",
       "      <td>del</td>\n",
       "    </tr>\n",
       "    <tr>\n",
       "      <th>3</th>\n",
       "      <td>0100053306</td>\n",
       "      <td>bstapjm</td>\n",
       "      <td>NaN</td>\n",
       "      <td>NaN</td>\n",
       "      <td>Risdale Road</td>\n",
       "      <td>en</td>\n",
       "      <td>NaN</td>\n",
       "      <td>NaN</td>\n",
       "      <td>NaN</td>\n",
       "      <td>NaN</td>\n",
       "      <td>...</td>\n",
       "      <td>OTH</td>\n",
       "      <td>NaN</td>\n",
       "      <td>NaN</td>\n",
       "      <td>NaN</td>\n",
       "      <td>9</td>\n",
       "      <td>2017-07-25T15:33:15</td>\n",
       "      <td>2017-07-04T15:11:27</td>\n",
       "      <td>18</td>\n",
       "      <td>del</td>\n",
       "      <td>del</td>\n",
       "    </tr>\n",
       "    <tr>\n",
       "      <th>4</th>\n",
       "      <td>010000015</td>\n",
       "      <td>bstpgpa</td>\n",
       "      <td>NaN</td>\n",
       "      <td>NaN</td>\n",
       "      <td>Kings Head Lane</td>\n",
       "      <td>en</td>\n",
       "      <td>NaN</td>\n",
       "      <td>NaN</td>\n",
       "      <td>NaN</td>\n",
       "      <td>NaN</td>\n",
       "      <td>...</td>\n",
       "      <td>OTH</td>\n",
       "      <td>NaN</td>\n",
       "      <td>NaN</td>\n",
       "      <td>NaN</td>\n",
       "      <td>9</td>\n",
       "      <td>2017-07-25T15:33:15</td>\n",
       "      <td>2017-07-17T14:38:04</td>\n",
       "      <td>57</td>\n",
       "      <td>del</td>\n",
       "      <td>del</td>\n",
       "    </tr>\n",
       "  </tbody>\n",
       "</table>\n",
       "<p>5 rows × 43 columns</p>\n",
       "</div>"
      ],
      "text/plain": [
       "     ATCOCode NaptanCode PlateCode  CleardownCode        CommonName  \\\n",
       "0  0100053316    bstjpdm       NaN            NaN  Broad Walk Shops   \n",
       "1  0100053264    bstmjdp       NaN            NaN     Alberton Road   \n",
       "2  0100053308    bstgtgj       NaN            NaN       Counterslip   \n",
       "3  0100053306    bstapjm       NaN            NaN      Risdale Road   \n",
       "4   010000015    bstpgpa       NaN            NaN   Kings Head Lane   \n",
       "\n",
       "  CommonNameLang ShortCommonName ShortCommonNameLang Landmark LandmarkLang  \\\n",
       "0             en             NaN                 NaN      NaN          NaN   \n",
       "1             en             NaN                 NaN      NaN          NaN   \n",
       "2             en             NaN                 NaN      NaN          NaN   \n",
       "3             en             NaN                 NaN      NaN          NaN   \n",
       "4             en             NaN                 NaN      NaN          NaN   \n",
       "\n",
       "   ...   TimingStatus DefaultWaitTime Notes NotesLang AdministrativeAreaCode  \\\n",
       "0  ...            OTH             NaN   NaN       NaN                      9   \n",
       "1  ...            OTH             NaN   NaN       NaN                      9   \n",
       "2  ...            OTH             NaN   NaN       NaN                      9   \n",
       "3  ...            OTH             NaN   NaN       NaN                      9   \n",
       "4  ...            OTH             NaN   NaN       NaN                      9   \n",
       "\n",
       "      CreationDateTime ModificationDateTime RevisionNumber Modification Status  \n",
       "0  2017-07-25T15:33:15  2017-07-17T14:41:57             24          del    del  \n",
       "1  2017-07-25T15:33:15  2017-07-17T14:26:49              9          del    del  \n",
       "2  2017-07-25T15:33:15  2017-07-17T14:46:28             12          del    del  \n",
       "3  2017-07-25T15:33:15  2017-07-04T15:11:27             18          del    del  \n",
       "4  2017-07-25T15:33:15  2017-07-17T14:38:04             57          del    del  \n",
       "\n",
       "[5 rows x 43 columns]"
      ]
     },
     "execution_count": 4,
     "metadata": {},
     "output_type": "execute_result"
    }
   ],
   "source": [
    "df.head()"
   ]
  },
  {
   "cell_type": "code",
   "execution_count": 5,
   "metadata": {},
   "outputs": [
    {
     "name": "stdout",
     "output_type": "stream",
     "text": [
      "<class 'pandas.core.frame.DataFrame'>\n",
      "RangeIndex: 433450 entries, 0 to 433449\n",
      "Data columns (total 43 columns):\n",
      "ATCOCode                   433450 non-null object\n",
      "NaptanCode                 405889 non-null object\n",
      "PlateCode                  43432 non-null object\n",
      "CleardownCode              2 non-null float64\n",
      "CommonName                 433450 non-null object\n",
      "CommonNameLang             132594 non-null object\n",
      "ShortCommonName            90996 non-null object\n",
      "ShortCommonNameLang        27921 non-null object\n",
      "Landmark                   299101 non-null object\n",
      "LandmarkLang               55663 non-null object\n",
      "Street                     421977 non-null object\n",
      "StreetLang                 121966 non-null object\n",
      "Crossing                   102724 non-null object\n",
      "CrossingLang               7197 non-null object\n",
      "Indicator                  400171 non-null object\n",
      "IndicatorLang              131280 non-null object\n",
      "Bearing                    411416 non-null object\n",
      "NptgLocalityCode           433450 non-null object\n",
      "LocalityName               433450 non-null object\n",
      "ParentLocalityName         194420 non-null object\n",
      "GrandParentLocalityName    10160 non-null object\n",
      "Town                       158236 non-null object\n",
      "TownLang                   8253 non-null object\n",
      "Suburb                     69723 non-null object\n",
      "SuburbLang                 8249 non-null object\n",
      "LocalityCentre             430780 non-null float64\n",
      "GridType                   418873 non-null object\n",
      "Easting                    433450 non-null int64\n",
      "Northing                   433450 non-null int64\n",
      "Longitude                  433450 non-null float64\n",
      "Latitude                   433450 non-null float64\n",
      "StopType                   433450 non-null object\n",
      "BusStopType                414860 non-null object\n",
      "TimingStatus               417549 non-null object\n",
      "DefaultWaitTime            0 non-null float64\n",
      "Notes                      34451 non-null object\n",
      "NotesLang                  10864 non-null object\n",
      "AdministrativeAreaCode     433450 non-null int64\n",
      "CreationDateTime           433450 non-null object\n",
      "ModificationDateTime       433449 non-null object\n",
      "RevisionNumber             433450 non-null int64\n",
      "Modification               398433 non-null object\n",
      "Status                     433450 non-null object\n",
      "dtypes: float64(5), int64(4), object(34)\n",
      "memory usage: 142.2+ MB\n"
     ]
    }
   ],
   "source": [
    "df.info()"
   ]
  },
  {
   "cell_type": "code",
   "execution_count": 6,
   "metadata": {},
   "outputs": [
    {
     "data": {
      "text/plain": [
       "ATCOCode                        0\n",
       "NaptanCode                  27561\n",
       "PlateCode                  390018\n",
       "CleardownCode              433448\n",
       "CommonName                      0\n",
       "CommonNameLang             300856\n",
       "ShortCommonName            342454\n",
       "ShortCommonNameLang        405529\n",
       "Landmark                   134349\n",
       "LandmarkLang               377787\n",
       "Street                      11473\n",
       "StreetLang                 311484\n",
       "Crossing                   330726\n",
       "CrossingLang               426253\n",
       "Indicator                   33279\n",
       "IndicatorLang              302170\n",
       "Bearing                     22034\n",
       "NptgLocalityCode                0\n",
       "LocalityName                    0\n",
       "ParentLocalityName         239030\n",
       "GrandParentLocalityName    423290\n",
       "Town                       275214\n",
       "TownLang                   425197\n",
       "Suburb                     363727\n",
       "SuburbLang                 425201\n",
       "LocalityCentre               2670\n",
       "GridType                    14577\n",
       "Easting                         0\n",
       "Northing                        0\n",
       "Longitude                       0\n",
       "Latitude                        0\n",
       "StopType                        0\n",
       "BusStopType                 18590\n",
       "TimingStatus                15901\n",
       "DefaultWaitTime            433450\n",
       "Notes                      398999\n",
       "NotesLang                  422586\n",
       "AdministrativeAreaCode          0\n",
       "CreationDateTime                0\n",
       "ModificationDateTime            1\n",
       "RevisionNumber                  0\n",
       "Modification                35017\n",
       "Status                          0\n",
       "dtype: int64"
      ]
     },
     "execution_count": 6,
     "metadata": {},
     "output_type": "execute_result"
    }
   ],
   "source": [
    "df.isna().sum()"
   ]
  },
  {
   "cell_type": "code",
   "execution_count": 7,
   "metadata": {},
   "outputs": [],
   "source": [
    "df = df[['ATCOCode', 'CommonName', 'StopType', 'Status', 'Latitude', 'Longitude']]"
   ]
  },
  {
   "cell_type": "code",
   "execution_count": 8,
   "metadata": {},
   "outputs": [
    {
     "data": {
      "text/plain": [
       "array(['BCT', 'FTD', 'RSE', 'BCS', 'TMU', 'AIR', 'BCE', 'TXR', 'STR',\n",
       "       'BCQ', 'RLY', 'RPL', 'GAT', 'FBT', 'FER', 'MET', 'PLT'],\n",
       "      dtype=object)"
      ]
     },
     "execution_count": 8,
     "metadata": {},
     "output_type": "execute_result"
    }
   ],
   "source": [
    "df[\"StopType\"].unique()"
   ]
  },
  {
   "cell_type": "code",
   "execution_count": 9,
   "metadata": {},
   "outputs": [
    {
     "data": {
      "text/plain": [
       "array(['del', 'act', 'pen', 'new'], dtype=object)"
      ]
     },
     "execution_count": 9,
     "metadata": {},
     "output_type": "execute_result"
    }
   ],
   "source": [
    "df[\"Status\"].unique()"
   ]
  },
  {
   "cell_type": "code",
   "execution_count": 10,
   "metadata": {},
   "outputs": [],
   "source": [
    "df = df[df.StopType.isin({'GAT', 'FER', 'RLY', 'MET','BST', 'LCB', 'BCT'})]"
   ]
  },
  {
   "cell_type": "code",
   "execution_count": 11,
   "metadata": {},
   "outputs": [
    {
     "ename": "ImportError",
     "evalue": "DLL load failed: The specified module could not be found.",
     "output_type": "error",
     "traceback": [
      "\u001b[1;31m---------------------------------------------------------------------------\u001b[0m",
      "\u001b[1;31mImportError\u001b[0m                               Traceback (most recent call last)",
      "\u001b[1;32m<ipython-input-11-a62d01c1d62e>\u001b[0m in \u001b[0;36m<module>\u001b[1;34m()\u001b[0m\n\u001b[1;32m----> 1\u001b[1;33m \u001b[1;32mimport\u001b[0m \u001b[0mgeopandas\u001b[0m \u001b[1;32mas\u001b[0m \u001b[0mgpd\u001b[0m\u001b[1;33m\u001b[0m\u001b[0m\n\u001b[0m",
      "\u001b[1;32m~\\Anaconda3\\lib\\site-packages\\geopandas\\__init__.py\u001b[0m in \u001b[0;36m<module>\u001b[1;34m()\u001b[0m\n\u001b[0;32m      2\u001b[0m \u001b[1;32mfrom\u001b[0m \u001b[0mgeopandas\u001b[0m\u001b[1;33m.\u001b[0m\u001b[0mgeodataframe\u001b[0m \u001b[1;32mimport\u001b[0m \u001b[0mGeoDataFrame\u001b[0m\u001b[1;33m\u001b[0m\u001b[0m\n\u001b[0;32m      3\u001b[0m \u001b[1;33m\u001b[0m\u001b[0m\n\u001b[1;32m----> 4\u001b[1;33m \u001b[1;32mfrom\u001b[0m \u001b[0mgeopandas\u001b[0m\u001b[1;33m.\u001b[0m\u001b[0mio\u001b[0m\u001b[1;33m.\u001b[0m\u001b[0mfile\u001b[0m \u001b[1;32mimport\u001b[0m \u001b[0mread_file\u001b[0m\u001b[1;33m\u001b[0m\u001b[0m\n\u001b[0m\u001b[0;32m      5\u001b[0m \u001b[1;32mfrom\u001b[0m \u001b[0mgeopandas\u001b[0m\u001b[1;33m.\u001b[0m\u001b[0mio\u001b[0m\u001b[1;33m.\u001b[0m\u001b[0msql\u001b[0m \u001b[1;32mimport\u001b[0m \u001b[0mread_postgis\u001b[0m\u001b[1;33m\u001b[0m\u001b[0m\n\u001b[0;32m      6\u001b[0m \u001b[1;32mfrom\u001b[0m \u001b[0mgeopandas\u001b[0m\u001b[1;33m.\u001b[0m\u001b[0mtools\u001b[0m \u001b[1;32mimport\u001b[0m \u001b[0msjoin\u001b[0m\u001b[1;33m\u001b[0m\u001b[0m\n",
      "\u001b[1;32m~\\Anaconda3\\lib\\site-packages\\geopandas\\io\\file.py\u001b[0m in \u001b[0;36m<module>\u001b[1;34m()\u001b[0m\n\u001b[0;32m      1\u001b[0m \u001b[1;32mimport\u001b[0m \u001b[0mos\u001b[0m\u001b[1;33m\u001b[0m\u001b[0m\n\u001b[0;32m      2\u001b[0m \u001b[1;33m\u001b[0m\u001b[0m\n\u001b[1;32m----> 3\u001b[1;33m \u001b[1;32mimport\u001b[0m \u001b[0mfiona\u001b[0m\u001b[1;33m\u001b[0m\u001b[0m\n\u001b[0m\u001b[0;32m      4\u001b[0m \u001b[1;32mimport\u001b[0m \u001b[0mnumpy\u001b[0m \u001b[1;32mas\u001b[0m \u001b[0mnp\u001b[0m\u001b[1;33m\u001b[0m\u001b[0m\n\u001b[0;32m      5\u001b[0m \u001b[1;33m\u001b[0m\u001b[0m\n",
      "\u001b[1;32m~\\Anaconda3\\lib\\site-packages\\fiona\\__init__.py\u001b[0m in \u001b[0;36m<module>\u001b[1;34m()\u001b[0m\n\u001b[0;32m     67\u001b[0m \u001b[1;32mfrom\u001b[0m \u001b[0msix\u001b[0m \u001b[1;32mimport\u001b[0m \u001b[0mstring_types\u001b[0m\u001b[1;33m\u001b[0m\u001b[0m\n\u001b[0;32m     68\u001b[0m \u001b[1;33m\u001b[0m\u001b[0m\n\u001b[1;32m---> 69\u001b[1;33m \u001b[1;32mfrom\u001b[0m \u001b[0mfiona\u001b[0m\u001b[1;33m.\u001b[0m\u001b[0mcollection\u001b[0m \u001b[1;32mimport\u001b[0m \u001b[0mCollection\u001b[0m\u001b[1;33m,\u001b[0m \u001b[0mBytesCollection\u001b[0m\u001b[1;33m,\u001b[0m \u001b[0mvsi_path\u001b[0m\u001b[1;33m\u001b[0m\u001b[0m\n\u001b[0m\u001b[0;32m     70\u001b[0m \u001b[1;32mfrom\u001b[0m \u001b[0mfiona\u001b[0m\u001b[1;33m.\u001b[0m\u001b[0m_drivers\u001b[0m \u001b[1;32mimport\u001b[0m \u001b[0mdriver_count\u001b[0m\u001b[1;33m,\u001b[0m \u001b[0mGDALEnv\u001b[0m\u001b[1;33m\u001b[0m\u001b[0m\n\u001b[0;32m     71\u001b[0m \u001b[1;32mfrom\u001b[0m \u001b[0mfiona\u001b[0m\u001b[1;33m.\u001b[0m\u001b[0mdrvsupport\u001b[0m \u001b[1;32mimport\u001b[0m \u001b[0msupported_drivers\u001b[0m\u001b[1;33m\u001b[0m\u001b[0m\n",
      "\u001b[1;32m~\\Anaconda3\\lib\\site-packages\\fiona\\collection.py\u001b[0m in \u001b[0;36m<module>\u001b[1;34m()\u001b[0m\n\u001b[0;32m      7\u001b[0m \u001b[1;33m\u001b[0m\u001b[0m\n\u001b[0;32m      8\u001b[0m \u001b[1;32mfrom\u001b[0m \u001b[0mfiona\u001b[0m \u001b[1;32mimport\u001b[0m \u001b[0mcompat\u001b[0m\u001b[1;33m\u001b[0m\u001b[0m\n\u001b[1;32m----> 9\u001b[1;33m \u001b[1;32mfrom\u001b[0m \u001b[0mfiona\u001b[0m\u001b[1;33m.\u001b[0m\u001b[0mogrext\u001b[0m \u001b[1;32mimport\u001b[0m \u001b[0mIterator\u001b[0m\u001b[1;33m,\u001b[0m \u001b[0mItemsIterator\u001b[0m\u001b[1;33m,\u001b[0m \u001b[0mKeysIterator\u001b[0m\u001b[1;33m\u001b[0m\u001b[0m\n\u001b[0m\u001b[0;32m     10\u001b[0m \u001b[1;32mfrom\u001b[0m \u001b[0mfiona\u001b[0m\u001b[1;33m.\u001b[0m\u001b[0mogrext\u001b[0m \u001b[1;32mimport\u001b[0m \u001b[0mSession\u001b[0m\u001b[1;33m,\u001b[0m \u001b[0mWritingSession\u001b[0m\u001b[1;33m\u001b[0m\u001b[0m\n\u001b[0;32m     11\u001b[0m from fiona.ogrext import (\n",
      "\u001b[1;31mImportError\u001b[0m: DLL load failed: The specified module could not be found."
     ]
    }
   ],
   "source": [
    "import geopandas as gpd"
   ]
  },
  {
   "cell_type": "code",
   "execution_count": null,
   "metadata": {},
   "outputs": [],
   "source": []
  }
 ],
 "metadata": {
  "kernelspec": {
   "display_name": "Python 3",
   "language": "python",
   "name": "python3"
  },
  "language_info": {
   "codemirror_mode": {
    "name": "ipython",
    "version": 3
   },
   "file_extension": ".py",
   "mimetype": "text/x-python",
   "name": "python",
   "nbconvert_exporter": "python",
   "pygments_lexer": "ipython3",
   "version": "3.6.5"
  }
 },
 "nbformat": 4,
 "nbformat_minor": 2
}
